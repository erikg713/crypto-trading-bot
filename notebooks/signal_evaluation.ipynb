```
import pandas as pd
import matplotlib.pyplot as plt
import seaborn as sns
import os

plt.style.use("seaborn-v0_8-darkgrid")
%matplotlib inline

TRADES_PATH = "../data/backtest/trades.csv"
```
