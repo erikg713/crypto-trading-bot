# signal_evaluation.ipynb

# 📦 Imports
import pandas as pd
import matplotlib.pyplot as plt
import seaborn as sns
import os

plt.style.use("seaborn-v0_8-darkgrid")
%matplotlib inline

# 📁 Load Data
TRADES_PATH = "../data/backtest/trades.csv"

if not os.path.exists(TRADES_PATH):
    raise FileNotFoundError(f"File not found: {TRADES_PATH}")

df = pd.read_csv(TRADES_PATH)

# 🧹 Basic Preprocessing
if 'timestamp' in df.columns:
    df['timestamp'] = pd.to_datetime(df['timestamp'])
    df = df.sort_values('timestamp')

# 📊 Basic Trade Metrics
print("🔍 Trade Summary:")
print(f"Total trades: {len(df)}")
print(f"Win rate: {(df['pnl'] > 0).mean():.2%}")
print(f"Average PnL: {df['pnl'].mean():.2f}")
print(f"Cumulative PnL: {df['pnl'].sum():.2f}")

# 🪙 Performance by Asset
if 'symbol' in df.columns:
    plt.figure(figsize=(10, 5))
    sns.barplot(data=df, x='symbol', y='pnl', estimator=sum, ci=None)
    plt.title("Total PnL by Symbol")
    plt.xticks(rotation=45)
    plt.show()

# 📈 Cumulative PnL Over Time
if 'timestamp' in df.columns:
    df['cumulative_pnl'] = df['pnl'].cumsum()

    plt.figure(figsize=(12, 5))
    plt.plot(df['timestamp'], df['cumulative_pnl'], label='Cumulative PnL')
    plt.title("Cumulative PnL Over Time")
    plt.xlabel("Time")
    plt.ylabel("PnL")
    plt.legend()
    plt.show()

# 📦 Signal Type Breakdown
if 'signal' in df.columns:
    plt.figure(figsize=(8, 5))
    sns.boxplot(data=df, x='signal', y='pnl')
    plt.title("PnL by Signal Type")
    plt.show()

    print("\n📈 Signal Stats:")
    print(df.groupby('signal')['pnl'].agg(['count', 'mean', 'sum']))

# 🕒 Daily PnL
if 'timestamp' in df.columns:
    df['date'] = df['timestamp'].dt.date
    daily_pnl = df.groupby('date')['pnl'].sum()

    plt.figure(figsize=(12, 4))
    plt.plot(daily_pnl.index, daily_pnl.values)
    plt.title("Daily PnL")
    plt.xticks(rotation=45)
    plt.grid(True)
    plt.show()
