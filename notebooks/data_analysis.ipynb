# Jupyter Notebook - data_analysis.ipynb

# 📌 1. IMPORTS
import pandas as pd
import numpy as np
import matplotlib.pyplot as plt
import seaborn as sns
import joblib
import os
from datetime import datetime
from sklearn.preprocessing import StandardScaler

from src.collectors.fetch_historical import fetch_ohlcv

# 📌 2. LOAD HISTORICAL DATA
df = fetch_ohlcv(symbol="BTCUSDT", interval="15m", limit=1000)
df.dropna(inplace=True)

# 📌 3. FEATURE ENGINEERING
df["returns"] = df["close"].pct_change()
df["ma_50"] = df["close"].rolling(window=50).mean()
df["ma_200"] = df["close"].rolling(window=200).mean()
df["volatility"] = df["returns"].rolling(window=30).std()

df.dropna(inplace=True)

# 📌 4. LOAD MODEL
model_path = os.path.join("models", "model_v1.pkl")
model = joblib.load(model_path)

# 📌 5. PREPARE INPUT DATA
features = ["close", "ma_50", "ma_200", "volatility"]
X = df[features]
scaler = StandardScaler()
X_scaled = scaler.fit_transform(X)

# 📌 6. PREDICT SIGNALS
df["signal"] = model.predict(X_scaled)

# 📌 7. BACKTESTING
initial_cash = 1000
cash = initial_cash
position = 0
df["holdings"] = 0

for i in range(1, len(df)):
    if df["signal"].iloc[i-1] == 1:  # Buy
        position = cash / df["close"].iloc[i]
        cash = 0
    elif df["signal"].iloc[i-1] == -1:  # Sell
        cash = position * df["close"].iloc[i]
        position = 0
    df["holdings"].iloc[i] = cash + position * df["close"].iloc[i]

df["returns_strategy"] = df["holdings"].pct_change()

# 📌 8. VISUALIZE
plt.figure(figsize=(14, 6))
plt.plot(df["close"], label="BTCUSDT Price")
plt.plot(df["ma_50"], label="MA 50", alpha=0.7)
plt.plot(df["ma_200"], label="MA 200", alpha=0.7)
plt.scatter(df.index[df["signal"] == 1], df["close"][df["signal"] == 1], label="Buy", marker="^", color="green")
plt.scatter(df.index[df["signal"] == -1], df["close"][df["signal"] == -1], label="Sell", marker="v", color="red")
plt.title("BTCUSDT with Buy/Sell Signals")
plt.legend()
plt.grid(True)
plt.show()

# 📌 9. STRATEGY PERFORMANCE
cumulative_returns = (df["returns_strategy"] + 1).cumprod()
benchmark = (df["returns"] + 1).cumprod()

plt.figure(figsize=(14, 6))
plt.plot(cumulative_returns, label="Strategy")
plt.plot(benchmark, label="Buy & Hold")
plt.title("Strategy vs Buy & Hold")
plt.legend()
plt.grid(True)
plt.show()

# 📌 10. OUTPUT SUMMARY
print(f"Initial Cash: ${initial_cash:.2f}")
print(f"Final Portfolio Value: ${df['holdings'].iloc[-1]:.2f}")
print(f"Total Return (%): {(df['holdings'].iloc[-1] - initial_cash) / initial_cash * 100:.2f}%")
