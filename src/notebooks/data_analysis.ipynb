{
 "cells": [
  {
   "cell_type": "markdown",
   "metadata": {},
   "source": [
    "# 📊 Crypto Trading Bot Data Analysis\n",
    "This notebook loads historical OHLCV data from Binance, uses a trained model (`model_v1.pkl`), and visualizes important features."
   ]
  },
  {
   "cell_type": "code",
   "execution_count": null,
   "metadata": {},
   "outputs": [],
   "source": [
    "# Imports\n",
    "import pandas as pd\n",
    "import matplotlib.pyplot as plt\n",
    "import seaborn as sns\n",
    "import joblib\n",
    "import numpy as np\n",
    "from sklearn.preprocessing import StandardScaler\n",
    "from src.collectors.fetch_historical import fetch_ohlcv\n",
    "from src.utils.features import generate_features"
   ]
  },
  {
   "cell_type": "code",
   "execution_count": null,
   "metadata": {},
   "outputs": [],
   "source": [
    "# Load historical OHLCV data\n",
    "symbol = \"BTCUSDT\"\n",
    "interval = \"15m\"\n",
    "limit = 500\n",
    "df = fetch_ohlcv(symbol=symbol, interval=interval, limit=limit)\n",
    "df.tail()"
   ]
  },
  {
   "cell_type": "code",
   "execution_count": null,
   "metadata": {},
   "outputs": [],
   "source": [
    "# Generate technical indicators and features\n",
    "features_df = generate_features(df.copy())\n",
    "features_df.dropna(inplace=True)\n",
    "features_df.tail()"
   ]
  },
  {
   "cell_type": "code",
   "execution_count": null,
   "metadata": {},
   "outputs": [],
   "source": [
    "# Visualize OHLCV trends\n",
    "plt.figure(figsize=(15, 5))\n",
    "plt.plot(df.index, df['close'], label='Close Price')\n",
    "plt.title(f'{symbol} Closing Price - {interval}')\n",
    "plt.xlabel('Time')\n",
    "plt.ylabel('Price (USDT)')\n",
    "plt.legend()\n",
    "plt.grid()\n",
    "plt.show()"
   ]
  },
  {
   "cell_type": "code",
   "execution_count": null,
   "metadata": {},
   "outputs": [],
   "source": [
    "# Load trained model\n",
    "model = joblib.load('models/model_v1.pkl')"
   ]
  },
  {
   "cell_type": "code",
   "execution_count": null,
   "metadata": {},
   "outputs": [],
   "source": [
    "# Predict with model\n",
    "X = features_df.drop(columns=['target']) if 'target' in features_df.columns else features_df.copy()\n",
    "scaler = StandardScaler()\n",
    "X_scaled = scaler.fit_transform(X)\n",
    "predictions = model.predict(X_scaled)\n",
    "features_df['prediction'] = predictions\n",
    "features_df[['prediction']].tail()"
   ]
  },
  {
   "cell_type": "code",
   "execution_count": null,
   "metadata": {},
   "outputs": [],
   "source": [
    "# Plot predictions\n",
    "plt.figure(figsize=(15, 5))\n",
    "plt.plot(features_df.index, df.loc[features_df.index]['close'], label='Close Price')\n",
    "buy_signals = features_df[features_df['prediction'] == 1]\n",
    "sell_signals = features_df[features_df['prediction'] == -1]\n",
    "\n",
    "plt.scatter(buy_signals.index, df.loc[buy_signals.index]['close'], marker='^', color='green', label='Buy Signal')\n",
    "plt.scatter(sell_signals.index, df.loc[sell_signals.index]['close'], marker='v', color='red', label='Sell Signal')\n",
    "plt.title(f'{symbol} Model Predictions')\n",
    "plt.legend()\n",
    "plt.grid()\n",
    "plt.show()"
   ]
  }
 ],
 "metadata": {
  "kernelspec": {
   "display_name": "Python 3",
   "language": "python",
   "name": "python3"
  },
  "language_info": {
   "name": "python",
   "version": "3.10"
  }
 },
 "nbformat": 4,
 "nbformat_minor": 5
}
